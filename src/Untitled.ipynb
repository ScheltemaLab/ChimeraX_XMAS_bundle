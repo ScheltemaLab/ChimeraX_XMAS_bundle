{
 "cells": [
  {
   "cell_type": "code",
   "execution_count": 9,
   "metadata": {},
   "outputs": [
    {
     "name": "stdout",
     "output_type": "stream",
     "text": [
      "[[149, 160]]\n",
      "VQHIQLLQKNVR\n"
     ]
    }
   ],
   "source": [
    "chain_sequence = \"ACKDSDWPFCSDEDWNYKCPSGCRMKGLIDEVNQDFTNRINKLKNSLFEYQKNNKDSHSLTTNIMEILRGDFSSANNRDNTYNRVSEDLRSRIEVLKRKVIEKVQHIQLLQKNVRAQLVDMKRLEVDIDIKIRSCRGSCSRALAREVDLKDYEDQQKQLEQVIAKDLLPSRDRQ\"\n",
    "peptide_sequence = \"VQHIQLLQKNVR\"\n",
    "peptide_length = len(peptide_sequence)\n",
    "starting_position = 46\n",
    "alignments = []\n",
    "for start in range(len(chain_sequence) - peptide_length + 1):\n",
    "    end = start + peptide_length\n",
    "    if (chain_sequence[start:end] == peptide_sequence):\n",
    "        alignments.append([start + starting_position, end -1 + starting_position])\n",
    "        \n",
    "print(alignments)\n",
    "print(chain_sequence[149-46:161-46])"
   ]
  }
 ],
 "metadata": {
  "kernelspec": {
   "display_name": "Python 3",
   "language": "python",
   "name": "python3"
  },
  "language_info": {
   "codemirror_mode": {
    "name": "ipython",
    "version": 3
   },
   "file_extension": ".py",
   "mimetype": "text/x-python",
   "name": "python",
   "nbconvert_exporter": "python",
   "pygments_lexer": "ipython3",
   "version": "3.8.5"
  }
 },
 "nbformat": 4,
 "nbformat_minor": 4
}
